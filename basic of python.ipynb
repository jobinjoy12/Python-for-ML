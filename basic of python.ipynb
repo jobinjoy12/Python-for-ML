{
 "cells": [
  {
   "cell_type": "markdown",
   "id": "5da6a736-bc20-4381-9e97-12b2e68d8f55",
   "metadata": {},
   "source": [
    "# BASICS OF `PYTHON` PROGRAMMING\n",
    "\n",
    "in this notebook we will explain the basic `Python` for Machine Learning. "
   ]
  },
  {
   "cell_type": "markdown",
   "id": "3178a9d6-f36b-4627-a28f-1aea269c8fbd",
   "metadata": {},
   "source": [
    "## Derived Data Types In `Python`\n"
   ]
  },
  {
   "cell_type": "markdown",
   "id": "1ab73d31-07b1-4fe2-bff7-4651a3609ffe",
   "metadata": {},
   "source": [
    ">**NOTE:** IN PYTHON `INT`,`FLOAT`,`STR`.. are atomic data types and no declaration is required.\n"
   ]
  },
  {
   "cell_type": "markdown",
   "id": "56cbe06c-0999-40a9-9672-3ce9be2e275c",
   "metadata": {},
   "source": [
    "### List"
   ]
  },
  {
   "cell_type": "code",
   "execution_count": 1,
   "id": "29b6ecc1-f6b1-4ce7-b190-54b6dc41c8a2",
   "metadata": {},
   "outputs": [],
   "source": [
    "mylist=[1,2]"
   ]
  },
  {
   "cell_type": "code",
   "execution_count": 2,
   "id": "2235e9fa-9297-43d0-b73e-58f1c340d97a",
   "metadata": {},
   "outputs": [
    {
     "data": {
      "text/plain": [
       "[1, 2]"
      ]
     },
     "execution_count": 2,
     "metadata": {},
     "output_type": "execute_result"
    }
   ],
   "source": [
    "mylist"
   ]
  },
  {
   "cell_type": "code",
   "execution_count": 3,
   "id": "59144fc7-f11f-4d4c-a8eb-56457371ed67",
   "metadata": {},
   "outputs": [],
   "source": [
    "mylist=[1,'a']"
   ]
  },
  {
   "cell_type": "code",
   "execution_count": 5,
   "id": "bba90feb-5868-48c4-8e8c-dbc72a0caa9f",
   "metadata": {},
   "outputs": [
    {
     "data": {
      "text/plain": [
       "[1, 'a']"
      ]
     },
     "execution_count": 5,
     "metadata": {},
     "output_type": "execute_result"
    }
   ],
   "source": [
    "mylist"
   ]
  },
  {
   "cell_type": "code",
   "execution_count": 6,
   "id": "19570d22-c28f-4d91-9c8b-3214fab4003d",
   "metadata": {},
   "outputs": [
    {
     "data": {
      "text/plain": [
       "'a'"
      ]
     },
     "execution_count": 6,
     "metadata": {},
     "output_type": "execute_result"
    }
   ],
   "source": [
    "mylist[1]\n"
   ]
  },
  {
   "cell_type": "code",
   "execution_count": 8,
   "id": "175cde11-32e4-4122-a389-d96bfe6b07cb",
   "metadata": {},
   "outputs": [],
   "source": [
    "mylist=[1,2,[100,200]]"
   ]
  },
  {
   "cell_type": "code",
   "execution_count": 9,
   "id": "ea6538b7-e70f-4eb0-9f3a-9e13b0ee7e6e",
   "metadata": {},
   "outputs": [
    {
     "data": {
      "text/plain": [
       "[1, 2, [100, 200]]"
      ]
     },
     "execution_count": 9,
     "metadata": {},
     "output_type": "execute_result"
    }
   ],
   "source": [
    "mylist\n"
   ]
  },
  {
   "cell_type": "code",
   "execution_count": 11,
   "id": "756603d9-70ee-48f5-9c5e-b1e408a71328",
   "metadata": {},
   "outputs": [
    {
     "data": {
      "text/plain": [
       "200"
      ]
     },
     "execution_count": 11,
     "metadata": {},
     "output_type": "execute_result"
    }
   ],
   "source": [
    "mylist[2][1]"
   ]
  },
  {
   "cell_type": "code",
   "execution_count": 12,
   "id": "d6bd78a7-c6f9-4410-874a-e591833d8e21",
   "metadata": {},
   "outputs": [],
   "source": [
    "mylist=[1,2,3]"
   ]
  },
  {
   "cell_type": "code",
   "execution_count": 13,
   "id": "09ed3ffd-cb6c-4dde-a4ab-3190354e021e",
   "metadata": {},
   "outputs": [
    {
     "data": {
      "text/plain": [
       "[1, 2, 3]"
      ]
     },
     "execution_count": 13,
     "metadata": {},
     "output_type": "execute_result"
    }
   ],
   "source": [
    "mylist"
   ]
  },
  {
   "cell_type": "code",
   "execution_count": 14,
   "id": "dfd2cb80-f739-4682-85a2-a121e2dfecba",
   "metadata": {},
   "outputs": [],
   "source": [
    "mylist[0]='new'"
   ]
  },
  {
   "cell_type": "code",
   "execution_count": 15,
   "id": "6159be17-c77d-4a8b-bf10-5e49a78e2164",
   "metadata": {},
   "outputs": [
    {
     "data": {
      "text/plain": [
       "['new', 2, 3]"
      ]
     },
     "execution_count": 15,
     "metadata": {},
     "output_type": "execute_result"
    }
   ],
   "source": [
    "mylist\n"
   ]
  },
  {
   "cell_type": "code",
   "execution_count": null,
   "id": "fb9e0aff-97f9-44d4-be60-c5933bfeead3",
   "metadata": {},
   "outputs": [],
   "source": []
  },
  {
   "cell_type": "code",
   "execution_count": 16,
   "id": "252c8c55-d768-4752-9724-4ed69eeabca7",
   "metadata": {},
   "outputs": [],
   "source": [
    "mylist.append('e')"
   ]
  },
  {
   "cell_type": "code",
   "execution_count": 17,
   "id": "dd425b19-c675-423e-b80c-5e05a14576c6",
   "metadata": {},
   "outputs": [
    {
     "data": {
      "text/plain": [
       "['new', 2, 3, 'e']"
      ]
     },
     "execution_count": 17,
     "metadata": {},
     "output_type": "execute_result"
    }
   ],
   "source": [
    "mylist"
   ]
  },
  {
   "cell_type": "code",
   "execution_count": 20,
   "id": "618da0b3-b423-4141-9530-a11bce660d94",
   "metadata": {},
   "outputs": [
    {
     "data": {
      "text/plain": [
       "['new', 2]"
      ]
     },
     "execution_count": 20,
     "metadata": {},
     "output_type": "execute_result"
    }
   ],
   "source": [
    "mylist[:2]"
   ]
  },
  {
   "cell_type": "markdown",
   "id": "0986aa06-5c9d-4ff7-9bd3-23106ac8659a",
   "metadata": {},
   "source": [
    "### tuple"
   ]
  },
  {
   "cell_type": "code",
   "execution_count": 21,
   "id": "3d162296-5a24-403e-8fbc-fd4a4dbb4c93",
   "metadata": {},
   "outputs": [],
   "source": [
    "t=(1,2)"
   ]
  },
  {
   "cell_type": "code",
   "execution_count": 54,
   "id": "5dce8a2f-1582-4b15-9758-3d19a69567dd",
   "metadata": {},
   "outputs": [
    {
     "data": {
      "text/plain": [
       "(1, 2)"
      ]
     },
     "execution_count": 54,
     "metadata": {},
     "output_type": "execute_result"
    }
   ],
   "source": [
    "t"
   ]
  },
  {
   "cell_type": "markdown",
   "id": "e28796ef-151f-4086-9a0e-891be672be35",
   "metadata": {},
   "source": [
    "### dic"
   ]
  },
  {
   "cell_type": "code",
   "execution_count": 24,
   "id": "b6337926-9d5c-4fac-a6d7-96d265347f70",
   "metadata": {},
   "outputs": [
    {
     "data": {
      "text/plain": [
       "{'Name': 'Jobin', 'age': 20}"
      ]
     },
     "execution_count": 24,
     "metadata": {},
     "output_type": "execute_result"
    }
   ],
   "source": [
    "d={'Name':'Jobin','age': 20}\n",
    "d\n"
   ]
  },
  {
   "cell_type": "code",
   "execution_count": 25,
   "id": "9bb3eca1-b727-474b-83e2-ec55d43a0f7f",
   "metadata": {},
   "outputs": [
    {
     "data": {
      "text/plain": [
       "20"
      ]
     },
     "execution_count": 25,
     "metadata": {},
     "output_type": "execute_result"
    }
   ],
   "source": [
    "d['age']"
   ]
  },
  {
   "cell_type": "code",
   "execution_count": 27,
   "id": "e1f3dcce-557e-49a9-bea2-5ac4fe8759c0",
   "metadata": {},
   "outputs": [
    {
     "data": {
      "text/plain": [
       "'Jobin'"
      ]
     },
     "execution_count": 27,
     "metadata": {},
     "output_type": "execute_result"
    }
   ],
   "source": [
    "d['Name']\n"
   ]
  },
  {
   "cell_type": "code",
   "execution_count": 29,
   "id": "10712a2d-b78f-4300-9660-38fbd110525a",
   "metadata": {},
   "outputs": [
    {
     "data": {
      "text/plain": [
       "{1, 2, 3, 4}"
      ]
     },
     "execution_count": 29,
     "metadata": {},
     "output_type": "execute_result"
    }
   ],
   "source": [
    "{1,2,3,4,1,1,1,1,1,2,2,2,2,3,3}"
   ]
  },
  {
   "cell_type": "markdown",
   "id": "5749b54c-f4a3-4f70-b7e2-69dd895a0961",
   "metadata": {},
   "source": [
    "### function def"
   ]
  },
  {
   "cell_type": "code",
   "execution_count": 31,
   "id": "31d9fa3d-8f4b-4b53-a938-216070f7b3c4",
   "metadata": {},
   "outputs": [],
   "source": [
    "def times2(var):\n",
    "    return var*2"
   ]
  },
  {
   "cell_type": "code",
   "execution_count": 32,
   "id": "f8c20865-8874-48de-9369-92fdd8dc663e",
   "metadata": {},
   "outputs": [
    {
     "data": {
      "text/plain": [
       "4"
      ]
     },
     "execution_count": 32,
     "metadata": {},
     "output_type": "execute_result"
    }
   ],
   "source": [
    "times2(2)"
   ]
  },
  {
   "cell_type": "code",
   "execution_count": 33,
   "id": "f7e32621-246e-454c-aecf-8548b46449fe",
   "metadata": {},
   "outputs": [],
   "source": [
    "def times15(var):\n",
    "    return var*15 "
   ]
  },
  {
   "cell_type": "code",
   "execution_count": 34,
   "id": "9a91c3ef-f6c0-4ef2-b917-7b7047bd7e19",
   "metadata": {},
   "outputs": [
    {
     "data": {
      "text/plain": [
       "225"
      ]
     },
     "execution_count": 34,
     "metadata": {},
     "output_type": "execute_result"
    }
   ],
   "source": [
    "times15(15)"
   ]
  },
  {
   "cell_type": "markdown",
   "id": "f88581b1-8f41-45bf-a81b-ad9129a006bc",
   "metadata": {},
   "source": [
    "### lambda function"
   ]
  },
  {
   "cell_type": "code",
   "execution_count": 35,
   "id": "2fe16566-139f-4e66-ba62-73fdcd32ef39",
   "metadata": {},
   "outputs": [],
   "source": [
    "times2=lambda var:var*2 "
   ]
  },
  {
   "cell_type": "code",
   "execution_count": 36,
   "id": "0d2ca85d-89b2-4798-82b0-a9c9b1501e7b",
   "metadata": {},
   "outputs": [
    {
     "name": "stdout",
     "output_type": "stream",
     "text": [
      "4\n"
     ]
    }
   ],
   "source": [
    "print(times2(2))"
   ]
  },
  {
   "cell_type": "code",
   "execution_count": 37,
   "id": "eec7882c-94d2-41ba-bb2f-c6862a1c1a0e",
   "metadata": {},
   "outputs": [],
   "source": [
    "x=[1,2,3,4]"
   ]
  },
  {
   "cell_type": "code",
   "execution_count": 45,
   "id": "e2538782-b493-4b70-8ab9-f4360596b674",
   "metadata": {},
   "outputs": [],
   "source": [
    "out=[]"
   ]
  },
  {
   "cell_type": "code",
   "execution_count": 47,
   "id": "96be5895-ac08-4497-b935-8f11fdfb35ae",
   "metadata": {},
   "outputs": [
    {
     "name": "stdout",
     "output_type": "stream",
     "text": [
      "[3, 6, 9, 12, 1, 8, 27, 64]\n"
     ]
    }
   ],
   "source": [
    "for item in x :\n",
    "    out.append(item**3)\n",
    "print(out)    \n"
   ]
  },
  {
   "cell_type": "markdown",
   "id": "13ab6971-0ec5-489d-b889-609790f1ddb0",
   "metadata": {},
   "source": [
    "### list comprehension"
   ]
  },
  {
   "cell_type": "code",
   "execution_count": 52,
   "id": "20a78593-f8ea-4446-a032-9041b2ca2a77",
   "metadata": {},
   "outputs": [
    {
     "data": {
      "text/plain": [
       "[1, 4, 9, 16]"
      ]
     },
     "execution_count": 52,
     "metadata": {},
     "output_type": "execute_result"
    }
   ],
   "source": [
    "[item ** 2 for item in x ]"
   ]
  },
  {
   "cell_type": "code",
   "execution_count": 48,
   "id": "7ffb26e6-4227-42c8-b03d-0c17a4ea85a0",
   "metadata": {},
   "outputs": [
    {
     "name": "stdout",
     "output_type": "stream",
     "text": [
      "my name is jobin my class is 5th\n"
     ]
    }
   ],
   "source": [
    "print(\"my name is {0} my class is {1}\".format('jobin','5th'))"
   ]
  },
  {
   "cell_type": "code",
   "execution_count": 50,
   "id": "d6e76bd6-ce4c-4971-a186-2949e5d76cb1",
   "metadata": {},
   "outputs": [],
   "source": [
    "num = 12\n",
    "name = 'jobin'"
   ]
  },
  {
   "cell_type": "code",
   "execution_count": 51,
   "id": "98003f0a-dcc2-4639-9b45-6595a878a29d",
   "metadata": {},
   "outputs": [
    {
     "name": "stdout",
     "output_type": "stream",
     "text": [
      "my name is jobin my class is 12\n"
     ]
    }
   ],
   "source": [
    "print(\"my name is {one} my class is {two}\".format(one = name , two = num));\n"
   ]
  },
  {
   "cell_type": "code",
   "execution_count": null,
   "id": "54cb447b-373f-42cc-b36a-c27c720ce90d",
   "metadata": {},
   "outputs": [],
   "source": []
  }
 ],
 "metadata": {
  "kernelspec": {
   "display_name": "Python 3 (Intel® oneAPI 2023.2)",
   "language": "python",
   "name": "c009-intel_distribution_of_python_3_oneapi-beta05-python"
  },
  "language_info": {
   "codemirror_mode": {
    "name": "ipython",
    "version": 3
   },
   "file_extension": ".py",
   "mimetype": "text/x-python",
   "name": "python",
   "nbconvert_exporter": "python",
   "pygments_lexer": "ipython3",
   "version": "3.9.16"
  }
 },
 "nbformat": 4,
 "nbformat_minor": 5
}
